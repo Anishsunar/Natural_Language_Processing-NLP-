{
  "nbformat": 4,
  "nbformat_minor": 0,
  "metadata": {
    "colab": {
      "provenance": [],
      "authorship_tag": "ABX9TyPki6oy60FVcrCvpfpJVbSO"
    },
    "kernelspec": {
      "name": "python3",
      "display_name": "Python 3"
    },
    "language_info": {
      "name": "python"
    }
  },
  "cells": [
    {
      "cell_type": "code",
      "execution_count": 2,
      "metadata": {
        "colab": {
          "base_uri": "https://localhost:8080/",
          "height": 52
        },
        "id": "WydfmpYYDoXW",
        "outputId": "1f3f97a5-1554-4290-bb25-0af2d95a2ce5"
      },
      "outputs": [
        {
          "output_type": "execute_result",
          "data": {
            "text/plain": [
              "'\\ndon\\'t --> \\'do\\'+\"n\\'t\"\\ncan\\'t --> \\'can\\'+\"n\\'t\"\\nwe\\'ve --> \\'we\\'+\"ve\"\\nI\\'ll --> \\'I\\' + \\'ll\\'\\n\\n\\'cats\\' --> \\'cats\\' + \\'.\\'\\n\\'Hello!\\'--> \\'Hello\\'+\\'!\\'\\n'"
            ],
            "application/vnd.google.colaboratory.intrinsic+json": {
              "type": "string"
            }
          },
          "metadata": {},
          "execution_count": 2
        }
      ],
      "source": [
        "\"\"\"\n",
        "don't --> 'do'+\"n't\"\n",
        "can't --> 'can'+\"n't\"\n",
        "we've --> 'we'+\"ve\"\n",
        "I'll --> 'I' + 'll'\n",
        "\n",
        "'cats' --> 'cats' + '.'\n",
        "'Hello!'--> 'Hello'+'!'\n",
        "\"\"\""
      ]
    },
    {
      "cell_type": "markdown",
      "source": [
        "# Stemming\n",
        "\n",
        "\n",
        "*   Stemming means cutting words to their root form.\n",
        "\n",
        "*   It removes suffiex like ing,ed,etc.\n",
        "*   The root(stem) may not be real word.\n",
        "\n",
        "\n",
        "*   Used in search engins, NLP tasks to match similar meaning.\n",
        "\n"
      ],
      "metadata": {
        "id": "nrbWbRanDrRL"
      }
    },
    {
      "cell_type": "code",
      "source": [
        "## Classification Problem\n",
        "## Comment on the Product is Positive or Negative review.\n",
        "## Review --> eating,eat,eaten [going,gone,goes]-->go\n",
        "words = ['eating','eats','eaten','writing','writes','programming','program','History','finally','finalized']"
      ],
      "metadata": {
        "id": "2SjEo2wVEJax"
      },
      "execution_count": 3,
      "outputs": []
    },
    {
      "cell_type": "code",
      "source": [
        "from nltk.stem import PorterStemmer\n"
      ],
      "metadata": {
        "id": "WmXPoKDjGlp1"
      },
      "execution_count": 4,
      "outputs": []
    },
    {
      "cell_type": "code",
      "source": [
        "ps = PorterStemmer()"
      ],
      "metadata": {
        "id": "0fZ1DU7DGrzs"
      },
      "execution_count": 5,
      "outputs": []
    },
    {
      "cell_type": "code",
      "source": [
        "for word in words:\n",
        "  print(word + '--->'+ps.stem(word))"
      ],
      "metadata": {
        "colab": {
          "base_uri": "https://localhost:8080/"
        },
        "id": "-5UV9W7kGzSt",
        "outputId": "fd187c6e-d074-4adb-f6ae-10ec1b403193"
      },
      "execution_count": 6,
      "outputs": [
        {
          "output_type": "stream",
          "name": "stdout",
          "text": [
            "eating--->eat\n",
            "eats--->eat\n",
            "eaten--->eaten\n",
            "writing--->write\n",
            "writes--->write\n",
            "programming--->program\n",
            "program--->program\n",
            "History--->histori\n",
            "finally--->final\n",
            "finalized--->final\n"
          ]
        }
      ]
    },
    {
      "cell_type": "code",
      "source": [
        "ps.stem('congratulations')"
      ],
      "metadata": {
        "colab": {
          "base_uri": "https://localhost:8080/",
          "height": 35
        },
        "id": "yPDEKC8qG86n",
        "outputId": "23943f62-b34a-4349-b7bf-780c57820bd8"
      },
      "execution_count": 7,
      "outputs": [
        {
          "output_type": "execute_result",
          "data": {
            "text/plain": [
              "'congratul'"
            ],
            "application/vnd.google.colaboratory.intrinsic+json": {
              "type": "string"
            }
          },
          "metadata": {},
          "execution_count": 7
        }
      ]
    },
    {
      "cell_type": "code",
      "source": [
        "ps.stem('sitting')"
      ],
      "metadata": {
        "colab": {
          "base_uri": "https://localhost:8080/",
          "height": 35
        },
        "id": "ONdQW-bNHF2m",
        "outputId": "8a54884f-2a89-4fab-ad9b-7b5cf497ca31"
      },
      "execution_count": 8,
      "outputs": [
        {
          "output_type": "execute_result",
          "data": {
            "text/plain": [
              "'sit'"
            ],
            "application/vnd.google.colaboratory.intrinsic+json": {
              "type": "string"
            }
          },
          "metadata": {},
          "execution_count": 8
        }
      ]
    },
    {
      "cell_type": "code",
      "source": [
        "ps.stem('dancing')"
      ],
      "metadata": {
        "colab": {
          "base_uri": "https://localhost:8080/",
          "height": 35
        },
        "id": "mi6s6biOHO0o",
        "outputId": "b134f802-8415-4ead-a367-e68acdcff07f"
      },
      "execution_count": 9,
      "outputs": [
        {
          "output_type": "execute_result",
          "data": {
            "text/plain": [
              "'danc'"
            ],
            "application/vnd.google.colaboratory.intrinsic+json": {
              "type": "string"
            }
          },
          "metadata": {},
          "execution_count": 9
        }
      ]
    },
    {
      "cell_type": "code",
      "source": [
        "ps.stem('running')"
      ],
      "metadata": {
        "colab": {
          "base_uri": "https://localhost:8080/",
          "height": 35
        },
        "id": "izTMCgq4HSYW",
        "outputId": "c0195559-40c9-49c1-f065-2c2c963cde8c"
      },
      "execution_count": 10,
      "outputs": [
        {
          "output_type": "execute_result",
          "data": {
            "text/plain": [
              "'run'"
            ],
            "application/vnd.google.colaboratory.intrinsic+json": {
              "type": "string"
            }
          },
          "metadata": {},
          "execution_count": 10
        }
      ]
    },
    {
      "cell_type": "code",
      "source": [
        "from nltk.stem import RegexpStemmer # regexpStemmer meand regular expression.\n",
        "reg_stemmer = RegexpStemmer('ing|s$|e$|able$',min =4) #min=4 means must have minimum 4 character."
      ],
      "metadata": {
        "id": "79w7dreAHVr4"
      },
      "execution_count": 14,
      "outputs": []
    },
    {
      "cell_type": "code",
      "source": [
        "reg_stemmer.stem('eating')"
      ],
      "metadata": {
        "colab": {
          "base_uri": "https://localhost:8080/",
          "height": 35
        },
        "id": "vQURPQFYHq-J",
        "outputId": "6c5f18e5-4e1d-4be7-bc44-32c294c251bc"
      },
      "execution_count": 15,
      "outputs": [
        {
          "output_type": "execute_result",
          "data": {
            "text/plain": [
              "'eat'"
            ],
            "application/vnd.google.colaboratory.intrinsic+json": {
              "type": "string"
            }
          },
          "metadata": {},
          "execution_count": 15
        }
      ]
    },
    {
      "cell_type": "code",
      "source": [
        "reg_stemmer.stem('ingeating')"
      ],
      "metadata": {
        "colab": {
          "base_uri": "https://localhost:8080/",
          "height": 35
        },
        "id": "sx9GDAOfJYM1",
        "outputId": "368f4c73-00c8-4611-97f8-8ac573d492bf"
      },
      "execution_count": 16,
      "outputs": [
        {
          "output_type": "execute_result",
          "data": {
            "text/plain": [
              "'eat'"
            ],
            "application/vnd.google.colaboratory.intrinsic+json": {
              "type": "string"
            }
          },
          "metadata": {},
          "execution_count": 16
        }
      ]
    },
    {
      "cell_type": "code",
      "source": [
        "from nltk.stem import SnowballStemmer"
      ],
      "metadata": {
        "id": "eKfLNIXnJd43"
      },
      "execution_count": 17,
      "outputs": []
    },
    {
      "cell_type": "code",
      "source": [
        "ss = SnowballStemmer('english')# supports multiple language like french germany"
      ],
      "metadata": {
        "id": "Sr5Zc_ULJoio"
      },
      "execution_count": 20,
      "outputs": []
    },
    {
      "cell_type": "code",
      "source": [
        "for word in words:\n",
        "  print(word + '--->' + ss.stem(word))"
      ],
      "metadata": {
        "colab": {
          "base_uri": "https://localhost:8080/"
        },
        "id": "5Vqv701CJuO6",
        "outputId": "6932d181-fd58-4d67-d34f-c3100e286526"
      },
      "execution_count": 21,
      "outputs": [
        {
          "output_type": "stream",
          "name": "stdout",
          "text": [
            "eating--->eat\n",
            "eats--->eat\n",
            "eaten--->eaten\n",
            "writing--->write\n",
            "writes--->write\n",
            "programming--->program\n",
            "program--->program\n",
            "History--->histori\n",
            "finally--->final\n",
            "finalized--->final\n"
          ]
        }
      ]
    },
    {
      "cell_type": "code",
      "source": [],
      "metadata": {
        "id": "4PxFF_6SJ2Go"
      },
      "execution_count": null,
      "outputs": []
    },
    {
      "cell_type": "markdown",
      "source": [
        "Comparision between PorterStemmer and SnowballStemmer"
      ],
      "metadata": {
        "id": "dU_TRKedKPP9"
      }
    },
    {
      "cell_type": "code",
      "source": [
        "ps.stem('fairly'),ss.stem('fairly')"
      ],
      "metadata": {
        "colab": {
          "base_uri": "https://localhost:8080/"
        },
        "id": "lh-81_VPKiZe",
        "outputId": "7cf5a932-6d8e-436d-ce75-5f4f74d1aae9"
      },
      "execution_count": 22,
      "outputs": [
        {
          "output_type": "execute_result",
          "data": {
            "text/plain": [
              "('fairli', 'fair')"
            ]
          },
          "metadata": {},
          "execution_count": 22
        }
      ]
    },
    {
      "cell_type": "code",
      "source": [
        "ps.stem('sportingly'),ss.stem('sportingly')"
      ],
      "metadata": {
        "colab": {
          "base_uri": "https://localhost:8080/"
        },
        "id": "S9Rft5ncKtAr",
        "outputId": "1f18f1a6-0c2a-4f3b-c089-f22e8691a390"
      },
      "execution_count": 23,
      "outputs": [
        {
          "output_type": "execute_result",
          "data": {
            "text/plain": [
              "('sportingli', 'sport')"
            ]
          },
          "metadata": {},
          "execution_count": 23
        }
      ]
    },
    {
      "cell_type": "code",
      "source": [
        "ss.stem('goes')"
      ],
      "metadata": {
        "colab": {
          "base_uri": "https://localhost:8080/",
          "height": 35
        },
        "id": "fJmAP_hBKwe9",
        "outputId": "39699b0c-4e16-4ad9-b540-98298b3dce97"
      },
      "execution_count": 24,
      "outputs": [
        {
          "output_type": "execute_result",
          "data": {
            "text/plain": [
              "'goe'"
            ],
            "application/vnd.google.colaboratory.intrinsic+json": {
              "type": "string"
            }
          },
          "metadata": {},
          "execution_count": 24
        }
      ]
    },
    {
      "cell_type": "code",
      "source": [
        "## This method is not used in making chatbots."
      ],
      "metadata": {
        "id": "Y8HjiFIBKz5O"
      },
      "execution_count": 25,
      "outputs": []
    },
    {
      "cell_type": "code",
      "source": [],
      "metadata": {
        "id": "ShIWvMpgK7vF"
      },
      "execution_count": null,
      "outputs": []
    }
  ]
}