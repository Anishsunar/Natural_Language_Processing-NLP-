{
  "nbformat": 4,
  "nbformat_minor": 0,
  "metadata": {
    "colab": {
      "provenance": [],
      "authorship_tag": "ABX9TyP0LkyBvMBaqo4dHVv9bUC7"
    },
    "kernelspec": {
      "name": "python3",
      "display_name": "Python 3"
    },
    "language_info": {
      "name": "python"
    }
  },
  "cells": [
    {
      "cell_type": "code",
      "execution_count": null,
      "metadata": {
        "id": "YPrYkPDzMcfD"
      },
      "outputs": [],
      "source": []
    },
    {
      "cell_type": "markdown",
      "source": [
        "## Lemmatization\n",
        "\n",
        "*   Lemmatization changes a word to it's base dictionary form(root word))\n",
        "\n",
        "*   It uses Grammer rules and vocabulary to fing correct base form.\n",
        "*   The result is always a real word, unlike stemming.\n",
        "\n",
        "\n",
        "*   Used in making chatbots and language models.\n",
        "\n"
      ],
      "metadata": {
        "id": "GH_rnRCBMhHf"
      }
    },
    {
      "cell_type": "markdown",
      "source": [
        "Use stemming when\n",
        "\n",
        "\n",
        "*   Speed is important.\n",
        "*   You don't need perfect word accuracy.\n",
        "*   When working on less memory/CPU device.\n",
        "\n",
        "Use lemmatization when\n",
        "\n",
        "\n",
        "*   Accuracy matters more than speed.\n",
        "*   Building advanced NLP systems using deep learning.\n",
        "\n",
        "\n",
        "\n"
      ],
      "metadata": {
        "id": "H9VV52kwNWbr"
      }
    },
    {
      "cell_type": "code",
      "source": [
        "import nltk\n",
        "nltk.download('wordnet')"
      ],
      "metadata": {
        "colab": {
          "base_uri": "https://localhost:8080/"
        },
        "id": "nbkgQ93cNBUj",
        "outputId": "47ff316a-85a9-48b1-9d6b-cf233696a2d5"
      },
      "execution_count": 1,
      "outputs": [
        {
          "output_type": "stream",
          "name": "stderr",
          "text": [
            "[nltk_data] Downloading package wordnet to /root/nltk_data...\n"
          ]
        },
        {
          "output_type": "execute_result",
          "data": {
            "text/plain": [
              "True"
            ]
          },
          "metadata": {},
          "execution_count": 1
        }
      ]
    },
    {
      "cell_type": "code",
      "source": [
        "from  nltk.stem import WordNetLemmatizer"
      ],
      "metadata": {
        "id": "h1EkTXnoOJgu"
      },
      "execution_count": 2,
      "outputs": []
    },
    {
      "cell_type": "code",
      "source": [
        "lm = WordNetLemmatizer()"
      ],
      "metadata": {
        "id": "l7HLr95gOUT-"
      },
      "execution_count": 3,
      "outputs": []
    },
    {
      "cell_type": "code",
      "source": [
        "\"\"\"\n",
        "POS - Part of Speech\n",
        "Noun - n\n",
        "Verb - v\n",
        "Adjective - a\n",
        "Adverb - r\n",
        "\"\"\"\n",
        "lm.lemmatize('going', pos='v')"
      ],
      "metadata": {
        "colab": {
          "base_uri": "https://localhost:8080/",
          "height": 35
        },
        "id": "ji_3a-vkOY9F",
        "outputId": "5f46c741-12ed-4001-8d3b-552954ac0c19"
      },
      "execution_count": 7,
      "outputs": [
        {
          "output_type": "execute_result",
          "data": {
            "text/plain": [
              "'go'"
            ],
            "application/vnd.google.colaboratory.intrinsic+json": {
              "type": "string"
            }
          },
          "metadata": {},
          "execution_count": 7
        }
      ]
    },
    {
      "cell_type": "code",
      "source": [
        "lm.lemmatize('eaten', pos='v')"
      ],
      "metadata": {
        "colab": {
          "base_uri": "https://localhost:8080/",
          "height": 35
        },
        "id": "Hm2HIqgLOrwr",
        "outputId": "afff384b-ad44-4f86-a2cb-3987e50444eb"
      },
      "execution_count": 6,
      "outputs": [
        {
          "output_type": "execute_result",
          "data": {
            "text/plain": [
              "'eat'"
            ],
            "application/vnd.google.colaboratory.intrinsic+json": {
              "type": "string"
            }
          },
          "metadata": {},
          "execution_count": 6
        }
      ]
    },
    {
      "cell_type": "code",
      "source": [
        "words = ['go','going','goes','gone','going','eating','eats','eaten','writing','writes']"
      ],
      "metadata": {
        "id": "GNHCOForP1e9"
      },
      "execution_count": 9,
      "outputs": []
    },
    {
      "cell_type": "code",
      "source": [
        "for word in words:\n",
        "  print(word + '--->',lm.lemmatize(word, pos='n'))"
      ],
      "metadata": {
        "colab": {
          "base_uri": "https://localhost:8080/"
        },
        "id": "LPuBjWhwPRAm",
        "outputId": "bdd47e6e-d438-4f00-aec2-b56f8b2e44de"
      },
      "execution_count": 10,
      "outputs": [
        {
          "output_type": "stream",
          "name": "stdout",
          "text": [
            "go---> go\n",
            "going---> going\n",
            "goes---> go\n",
            "gone---> gone\n",
            "going---> going\n",
            "eating---> eating\n",
            "eats---> eats\n",
            "eaten---> eaten\n",
            "writing---> writing\n",
            "writes---> writes\n"
          ]
        }
      ]
    },
    {
      "cell_type": "code",
      "source": [
        "for word in words:\n",
        "  print(word + '--->',lm.lemmatize(word, pos='a'))"
      ],
      "metadata": {
        "colab": {
          "base_uri": "https://localhost:8080/"
        },
        "id": "DmFvIJFlPwyw",
        "outputId": "153e28f5-fd96-4e0b-c3fe-67091b13311f"
      },
      "execution_count": 11,
      "outputs": [
        {
          "output_type": "stream",
          "name": "stdout",
          "text": [
            "go---> go\n",
            "going---> going\n",
            "goes---> goes\n",
            "gone---> gone\n",
            "going---> going\n",
            "eating---> eating\n",
            "eats---> eats\n",
            "eaten---> eaten\n",
            "writing---> writing\n",
            "writes---> writes\n"
          ]
        }
      ]
    },
    {
      "cell_type": "code",
      "source": [
        "for word in words:\n",
        "  print(word + '--->',lm.lemmatize(word, pos='v'))"
      ],
      "metadata": {
        "colab": {
          "base_uri": "https://localhost:8080/"
        },
        "id": "L16sUWv5QO82",
        "outputId": "3bedb60b-3d8f-4217-e66b-60bdf834fbd2"
      },
      "execution_count": 12,
      "outputs": [
        {
          "output_type": "stream",
          "name": "stdout",
          "text": [
            "go---> go\n",
            "going---> go\n",
            "goes---> go\n",
            "gone---> go\n",
            "going---> go\n",
            "eating---> eat\n",
            "eats---> eat\n",
            "eaten---> eat\n",
            "writing---> write\n",
            "writes---> write\n"
          ]
        }
      ]
    },
    {
      "cell_type": "code",
      "source": [
        "for word in words:\n",
        "  print(word + '--->',lm.lemmatize(word, pos='r'))#(adverb)"
      ],
      "metadata": {
        "colab": {
          "base_uri": "https://localhost:8080/"
        },
        "id": "jvgw4Uo8QTff",
        "outputId": "2cd5e421-9caa-4c0c-ed17-d88bc29db385"
      },
      "execution_count": 14,
      "outputs": [
        {
          "output_type": "stream",
          "name": "stdout",
          "text": [
            "go---> go\n",
            "going---> going\n",
            "goes---> goes\n",
            "gone---> gone\n",
            "going---> going\n",
            "eating---> eating\n",
            "eats---> eats\n",
            "eaten---> eaten\n",
            "writing---> writing\n",
            "writes---> writes\n"
          ]
        }
      ]
    },
    {
      "cell_type": "code",
      "source": [
        "lm.lemmatize('better', pos='a')"
      ],
      "metadata": {
        "colab": {
          "base_uri": "https://localhost:8080/",
          "height": 35
        },
        "id": "40g9lKcxQXP7",
        "outputId": "fd39531f-3747-4a69-e397-f46d4c010f7e"
      },
      "execution_count": 15,
      "outputs": [
        {
          "output_type": "execute_result",
          "data": {
            "text/plain": [
              "'good'"
            ],
            "application/vnd.google.colaboratory.intrinsic+json": {
              "type": "string"
            }
          },
          "metadata": {},
          "execution_count": 15
        }
      ]
    },
    {
      "cell_type": "code",
      "source": [
        "# ps.stem('better')"
      ],
      "metadata": {
        "id": "1i9vvOsqQkeB"
      },
      "execution_count": 17,
      "outputs": []
    },
    {
      "cell_type": "code",
      "source": [
        "lm.lemmatize('worse',pos = 'a')"
      ],
      "metadata": {
        "colab": {
          "base_uri": "https://localhost:8080/",
          "height": 35
        },
        "id": "0BInA3z3QpGj",
        "outputId": "2f954463-d94c-4745-f120-ed38368fbab9"
      },
      "execution_count": 18,
      "outputs": [
        {
          "output_type": "execute_result",
          "data": {
            "text/plain": [
              "'bad'"
            ],
            "application/vnd.google.colaboratory.intrinsic+json": {
              "type": "string"
            }
          },
          "metadata": {},
          "execution_count": 18
        }
      ]
    },
    {
      "cell_type": "code",
      "source": [],
      "metadata": {
        "id": "_h-ObCxEQxwg"
      },
      "execution_count": null,
      "outputs": []
    },
    {
      "cell_type": "markdown",
      "source": [
        "\n",
        "\n",
        "*   Lemmatization takes more time than stemming.\n",
        "\n",
        "*   It is more accurate than stemming.\n",
        "*   It is used in Q&A systems, chatbots, text summarization, etc.\n",
        "\n",
        "\n"
      ],
      "metadata": {
        "id": "Cfp4dpT-Q2Uy"
      }
    },
    {
      "cell_type": "code",
      "source": [],
      "metadata": {
        "id": "frPjUXYtRMuk"
      },
      "execution_count": null,
      "outputs": []
    }
  ]
}